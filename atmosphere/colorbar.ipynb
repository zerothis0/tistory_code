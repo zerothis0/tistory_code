{
 "cells": [
  {
   "cell_type": "code",
   "execution_count": 33,
   "id": "19879165",
   "metadata": {},
   "outputs": [],
   "source": [
    "# 레이더 HSR\n",
    "\n",
    "value = [0.0, 0.1, 0.5, 1.0, 2, 3, 4, 5, 6, 7, 8, 9, 10, 15, 20, 25, 30, 40, 50, 60, 70, 90, 110, 150]\n",
    "rgb = [(250, 250, 250), \n",
    "    (0, 200, 255),\n",
    "    (0, 155, 245),\n",
    "    (0, 74, 245),\n",
    "    (0, 255, 0),\n",
    "    (0, 190, 0),\n",
    "    (0, 140, 0),\n",
    "    (0, 90, 0),\n",
    "    (255, 255, 0),\n",
    "    (255, 220, 31),\n",
    "    (249, 205, 0),\n",
    "    (224, 185, 0),\n",
    "    (204, 170, 0),\n",
    "    (255, 102, 0),\n",
    "    (255, 50, 0),\n",
    "    (210, 0, 0),\n",
    "    (180, 0, 0), \n",
    "    (224, 169, 255),\n",
    "    (201, 105, 255),\n",
    "    (179, 41, 255),\n",
    "    (147, 0, 228),\n",
    "    (179, 180, 222),\n",
    "    (76, 78, 177),\n",
    "    (0, 3, 144),\n",
    "    (51, 51, 51)\n",
    "]\n",
    "\n",
    "# 강수(누적)\n",
    "\n",
    "value = [0.0, 0.2, 0.4, 0.6, 0.8, 1.0, 1.5, 2.0, 3.0, 4.0, 5.0, 6, 7, 8, 9, 10, 12, 14, 16,\n",
    "        18, 20, 25, 30, 35, 40, 50, 60, 70, 80, 90, 100]\n",
    "rgb = [(238, 238, 238),\n",
    "    (255, 234, 110),\n",
    "    (255, 220, 31),\n",
    "    (249, 205, 0),\n",
    "    (224, 185, 0),\n",
    "    (204, 170, 0),\n",
    "    (105, 252, 105),\n",
    "    (30, 243, 30),\n",
    "    (0, 213, 0),\n",
    "    (0, 164, 0),\n",
    "    (0, 128, 0),\n",
    "    (135, 217, 255),\n",
    "    (62, 193, 255),\n",
    "    (7, 171, 255),\n",
    "    (0, 141, 222),\n",
    "    (0, 119, 179),\n",
    "    (179, 180, 222),\n",
    "    (128, 129, 199),\n",
    "    (76, 78, 177),\n",
    "    (31, 33, 157),\n",
    "    (0, 3, 144),\n",
    "    (218, 135, 255),\n",
    "    (194, 62, 255),\n",
    "    (173, 7, 255),\n",
    "    (146, 0, 228),\n",
    "    (127, 0, 191),\n",
    "    (250, 133, 133),\n",
    "    (246, 62, 62),\n",
    "    (238, 11, 11),\n",
    "    (213, 0, 0),\n",
    "    (191, 0, 0),\n",
    "    (51, 51, 51)\n",
    "]"
   ]
  },
  {
   "cell_type": "code",
   "execution_count": 34,
   "id": "36ff3390",
   "metadata": {},
   "outputs": [],
   "source": [
    "cb = rgb\n",
    "values = value"
   ]
  },
  {
   "cell_type": "code",
   "execution_count": 35,
   "id": "2137be9a",
   "metadata": {},
   "outputs": [
    {
     "data": {
      "image/png": "[encoded data removed]",
      "text/plain": [
       "<Figure size 1000x100 with 1 Axes>"
      ]
     },
     "metadata": {},
     "output_type": "display_data"
    }
   ],
   "source": [
    "import matplotlib.pyplot as plt\n",
    "import matplotlib as mpl\n",
    "import matplotlib.colors as mcolors\n",
    "\n",
    "fig, ax = plt.subplots(figsize=(10, 1), layout='constrained')\n",
    "\n",
    "cb_norm = [(r/255, g/255, b/255) for r, g, b in cb]\n",
    "\n",
    "# ✅ ListedColormap으로 변환\n",
    "cmap = mcolors.ListedColormap(cb_norm, name='custom_cb')\n",
    "\n",
    "bounds = values\n",
    "norm = mpl.colors.BoundaryNorm(bounds, cmap.N, extend='both')\n",
    "\n",
    "cbar = fig.colorbar(\n",
    "    mpl.cm.ScalarMappable(norm=norm, cmap=cmap),\n",
    "    cax=ax,\n",
    "    orientation='horizontal'\n",
    ")\n",
    "\n",
    "cbar.set_ticks(values)\n",
    "cbar.set_ticklabels([str(v) for v in values], fontsize=12)  # 문자열로 변환\n",
    "# 또는 소수점 포맷팅 원할 시: [f\"{v:.1f}\" for v in values]\n",
    "\n",
    "plt.show()\n"
   ]
  }
 ],
 "metadata": {
  "kernelspec": {
   "display_name": "practice",
   "language": "python",
   "name": "python3"
  },
  "language_info": {
   "codemirror_mode": {
    "name": "ipython",
    "version": 3
   },
   "file_extension": ".py",
   "mimetype": "text/x-python",
   "name": "python",
   "nbconvert_exporter": "python",
   "pygments_lexer": "ipython3",
   "version": "3.13.2"
  }
 },
 "nbformat": 4,
 "nbformat_minor": 5
}
