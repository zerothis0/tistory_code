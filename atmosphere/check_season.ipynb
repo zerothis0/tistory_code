{
 "cells": [
  {
   "cell_type": "code",
   "execution_count": 4,
   "id": "6fa1de7b",
   "metadata": {},
   "outputs": [],
   "source": [
    "import pandas as pd\n",
    "fn = r'D:\\bus2\\ta_20250607132536.csv'\n",
    "df = pd.read_csv(fn, skiprows=7, encoding='cp949')\n",
    "df['날짜'] = df['날짜'].str.replace('\\t', '', regex=False)\n",
    "df['날짜'] = pd.to_datetime(df['날짜'])\n",
    "\n"
   ]
  },
  {
   "cell_type": "code",
   "execution_count": null,
   "id": "bfe7b1e5",
   "metadata": {},
   "outputs": [
    {
     "name": "stdout",
     "output_type": "stream",
     "text": [
      "YYYY\n",
      "1907     92\n",
      "1950    299\n",
      "1951     31\n",
      "1952    335\n",
      "2025    157\n",
      "dtype: int64\n"
     ]
    }
   ],
   "source": [
    "df['YYYY'] = df['날짜'].dt.year\n",
    "df['MM'] = df['날짜'].dt.month\n",
    "df['MMDD'] = df['날짜'].dt.strftime('%m-%d')\n",
    "\n",
    "df = df[~df['MMDD'].isin(['02-29'])].copy()\n",
    "\n",
    "year_size = df.groupby('YYYY').size()\n",
    "print(year_size[year_size.values < 365 ])\n"
   ]
  },
  {
   "cell_type": "code",
   "execution_count": 7,
   "id": "7761f630",
   "metadata": {},
   "outputs": [],
   "source": [
    "import numpy as np\n",
    "df['t_roll'] = df['평균기온(℃)'].rolling(window=9, center=True).mean()\n",
    "df['decade_group'] = np.floor((df['YYYY'] + 5) / 10).astype(int)\n",
    "\n",
    "# 제거목록 191, 195, 203\n",
    "data = df[~df['decade_group'].isin([191, 195, 203])][['decade_group','MM', 'MMDD', 't_roll']].groupby(['decade_group','MMDD']).mean('MMDD')\n",
    "data.reset_index(inplace=True)"
   ]
  },
  {
   "cell_type": "code",
   "execution_count": 9,
   "id": "7835696c",
   "metadata": {},
   "outputs": [],
   "source": [
    "def str_to_datetime(year, df_series):\n",
    "    return pd.to_datetime(str(year) + '-' + df_series, format='%Y-%m-%d')\n",
    "\n",
    "winter_end_2000 =str_to_datetime(2000, data[(data['MM']<=4) & (data['t_roll'] < 5)]\n",
    "                                 .groupby(['decade_group']).last()['MMDD']) \n",
    "winter_end_2001 = str_to_datetime(2001, data[(data['MM']<=4) & (data['t_roll'] < 5)]\n",
    "                                  .groupby(['decade_group']).last()['MMDD'])\n",
    "\n",
    "spring_end = str_to_datetime(2000, data[(data['MM']<=8) & (data['t_roll'] < 20)]\n",
    "                             .groupby(['decade_group']).last()['MMDD'])\n",
    "\n",
    "summer_end = str_to_datetime(2000, data[data['t_roll']>=20]\n",
    "                             .groupby('decade_group').last()['MMDD'])\n",
    "\n",
    "fall_end = str_to_datetime(2000, data[(data['MM'] >= 9) & (data['t_roll']>=5)]\n",
    "                           .groupby('decade_group').last()['MMDD'])\n"
   ]
  },
  {
   "cell_type": "code",
   "execution_count": null,
   "id": "5e807f48",
   "metadata": {},
   "outputs": [],
   "source": [
    "df_duration = pd.DataFrame({\n",
    "    'spring': spring_end - winter_end_2000,\n",
    "    'summer': summer_end - spring_end,\n",
    "    'fall': fall_end - summer_end,\n",
    "    'winter': winter_end_2001 - fall_end\n",
    "})\n",
    "df_duration.reset_index(inplace=True)"
   ]
  },
  {
   "cell_type": "code",
   "execution_count": 21,
   "id": "259ea144",
   "metadata": {},
   "outputs": [
    {
     "data": {
      "text/html": [
       "<div>\n",
       "<style scoped>\n",
       "    .dataframe tbody tr th:only-of-type {\n",
       "        vertical-align: middle;\n",
       "    }\n",
       "\n",
       "    .dataframe tbody tr th {\n",
       "        vertical-align: top;\n",
       "    }\n",
       "\n",
       "    .dataframe thead th {\n",
       "        text-align: right;\n",
       "    }\n",
       "</style>\n",
       "<table border=\"1\" class=\"dataframe\">\n",
       "  <thead>\n",
       "    <tr style=\"text-align: right;\">\n",
       "      <th></th>\n",
       "      <th>decade_group</th>\n",
       "      <th>spring</th>\n",
       "      <th>summer</th>\n",
       "      <th>fall</th>\n",
       "      <th>winter</th>\n",
       "    </tr>\n",
       "  </thead>\n",
       "  <tbody>\n",
       "    <tr>\n",
       "      <th>0</th>\n",
       "      <td>192</td>\n",
       "      <td>74 days</td>\n",
       "      <td>97 days</td>\n",
       "      <td>58 days</td>\n",
       "      <td>136 days</td>\n",
       "    </tr>\n",
       "    <tr>\n",
       "      <th>1</th>\n",
       "      <td>193</td>\n",
       "      <td>77 days</td>\n",
       "      <td>100 days</td>\n",
       "      <td>64 days</td>\n",
       "      <td>124 days</td>\n",
       "    </tr>\n",
       "    <tr>\n",
       "      <th>2</th>\n",
       "      <td>194</td>\n",
       "      <td>79 days</td>\n",
       "      <td>98 days</td>\n",
       "      <td>68 days</td>\n",
       "      <td>120 days</td>\n",
       "    </tr>\n",
       "    <tr>\n",
       "      <th>3</th>\n",
       "      <td>196</td>\n",
       "      <td>83 days</td>\n",
       "      <td>102 days</td>\n",
       "      <td>65 days</td>\n",
       "      <td>115 days</td>\n",
       "    </tr>\n",
       "    <tr>\n",
       "      <th>4</th>\n",
       "      <td>197</td>\n",
       "      <td>77 days</td>\n",
       "      <td>104 days</td>\n",
       "      <td>58 days</td>\n",
       "      <td>126 days</td>\n",
       "    </tr>\n",
       "    <tr>\n",
       "      <th>5</th>\n",
       "      <td>198</td>\n",
       "      <td>77 days</td>\n",
       "      <td>114 days</td>\n",
       "      <td>60 days</td>\n",
       "      <td>114 days</td>\n",
       "    </tr>\n",
       "    <tr>\n",
       "      <th>6</th>\n",
       "      <td>199</td>\n",
       "      <td>78 days</td>\n",
       "      <td>110 days</td>\n",
       "      <td>65 days</td>\n",
       "      <td>112 days</td>\n",
       "    </tr>\n",
       "    <tr>\n",
       "      <th>7</th>\n",
       "      <td>200</td>\n",
       "      <td>81 days</td>\n",
       "      <td>115 days</td>\n",
       "      <td>66 days</td>\n",
       "      <td>103 days</td>\n",
       "    </tr>\n",
       "    <tr>\n",
       "      <th>8</th>\n",
       "      <td>201</td>\n",
       "      <td>73 days</td>\n",
       "      <td>122 days</td>\n",
       "      <td>65 days</td>\n",
       "      <td>105 days</td>\n",
       "    </tr>\n",
       "    <tr>\n",
       "      <th>9</th>\n",
       "      <td>202</td>\n",
       "      <td>81 days</td>\n",
       "      <td>129 days</td>\n",
       "      <td>54 days</td>\n",
       "      <td>101 days</td>\n",
       "    </tr>\n",
       "  </tbody>\n",
       "</table>\n",
       "</div>"
      ],
      "text/plain": [
       "   decade_group  spring   summer    fall   winter\n",
       "0           192 74 days  97 days 58 days 136 days\n",
       "1           193 77 days 100 days 64 days 124 days\n",
       "2           194 79 days  98 days 68 days 120 days\n",
       "3           196 83 days 102 days 65 days 115 days\n",
       "4           197 77 days 104 days 58 days 126 days\n",
       "5           198 77 days 114 days 60 days 114 days\n",
       "6           199 78 days 110 days 65 days 112 days\n",
       "7           200 81 days 115 days 66 days 103 days\n",
       "8           201 73 days 122 days 65 days 105 days\n",
       "9           202 81 days 129 days 54 days 101 days"
      ]
     },
     "execution_count": 21,
     "metadata": {},
     "output_type": "execute_result"
    }
   ],
   "source": [
    "df_duration"
   ]
  },
  {
   "cell_type": "code",
   "execution_count": 34,
   "id": "ced50a08",
   "metadata": {},
   "outputs": [
    {
     "data": {
      "text/plain": [
       "Text(0, 0.5, 'days')"
      ]
     },
     "execution_count": 34,
     "metadata": {},
     "output_type": "execute_result"
    },
    {
     "data": {
      "image/png": "[encoded data removed]",
      "text/plain": [
       "<Figure size 1000x300 with 1 Axes>"
      ]
     },
     "metadata": {},
     "output_type": "display_data"
    }
   ],
   "source": [
    "import matplotlib.pyplot as plt\n",
    "fig = plt.figure(figsize=(10, 3))\n",
    "ax = fig.add_subplot()\n",
    "x = df_duration['decade_group']\n",
    "colors = [\n",
    "    (244/255, 180/255, 210/255),  # spring\n",
    "    (203/255, 216/255, 91/255),   # summer\n",
    "    (255/255, 218/255, 71/255),   # fall\n",
    "    (167/255, 201/255, 201/255)   # winter\n",
    "]\n",
    "\n",
    "seasons = ['spring', 'summer', 'fall', 'winter']\n",
    "\n",
    "for season, color in zip(seasons, colors):\n",
    "    ax.plot(x[0:3], df_duration[season].dt.days[0:3], color=color, label=season, lw=3)\n",
    "    ax.plot(x[3:], df_duration[season].dt.days[3:], color=color,  lw=3)\n",
    "plt.legend(loc='lower left')\n",
    "ax.set_xlabel('decadal_group')\n",
    "ax.set_ylabel('days')"
   ]
  }
 ],
 "metadata": {
  "kernelspec": {
   "display_name": "practice",
   "language": "python",
   "name": "python3"
  },
  "language_info": {
   "codemirror_mode": {
    "name": "ipython",
    "version": 3
   },
   "file_extension": ".py",
   "mimetype": "text/x-python",
   "name": "python",
   "nbconvert_exporter": "python",
   "pygments_lexer": "ipython3",
   "version": "3.13.2"
  }
 },
 "nbformat": 4,
 "nbformat_minor": 5
}
