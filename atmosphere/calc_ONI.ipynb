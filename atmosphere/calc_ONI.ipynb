{
 "cells": [
  {
   "cell_type": "code",
   "execution_count": 1,
   "id": "5d0a8614",
   "metadata": {},
   "outputs": [],
   "source": [
    "import xarray as xr\n",
    "\n",
    "fn = r'D:\\bus2\\sst.mnmean.nc'\n",
    "ds = xr.open_dataset(fn)\n"
   ]
  },
  {
   "cell_type": "code",
   "execution_count": 7,
   "id": "5a865faa",
   "metadata": {},
   "outputs": [],
   "source": [
    "import numpy as np\n",
    "\n",
    "region = ds['sst'].sel(lat=slice(5, -5), lon=slice(190, 240))\n",
    "lat = region['lat']\n",
    "weights = np.cos(np.deg2rad(region['lat']))\n",
    "\n",
    "area_weighted_mean = region.weighted(weights).mean(dim=('lat', 'lon'))"
   ]
  },
  {
   "cell_type": "code",
   "execution_count": 8,
   "id": "b5daf32d",
   "metadata": {},
   "outputs": [],
   "source": [
    "import pandas as pd\n",
    "var_time = ds['time']\n",
    "years = pd.to_datetime(var_time).year\n",
    "months = pd.to_datetime(var_time).month\n",
    "\n",
    "df = pd.DataFrame({\n",
    "    'year': years,\n",
    "    'month': months,\n",
    "    'sst': area_weighted_mean})\n",
    "df['sst_running'] = df['sst'].rolling(window=3, center=True).mean()\n"
   ]
  },
  {
   "cell_type": "code",
   "execution_count": 35,
   "id": "a2d641d7",
   "metadata": {},
   "outputs": [],
   "source": [
    "target_syears = [1950]\n",
    "dfs = []\n",
    "for target_syear in target_syears:\n",
    "    clim_syear = target_syear - 14 \n",
    "    clim_eyear = target_syear + 15\n",
    "    df_clim = df[['month', 'sst_running']][(df['year'] >= clim_syear) & (df['year'] <= clim_eyear)].groupby('month').mean().reset_index()\n",
    "    df_clim.columns = ['month', 'sst_clim']\n",
    "    for year in range(target_syear, target_syear+5+1):\n",
    "        df_merged = pd.merge(df[df['year'] == year], df_clim, on='month', how='left')\n",
    "        dfs.append(df_merged)\n",
    "df_oni = pd.concat(dfs)\n",
    "df_oni['diff'] = df_oni['sst_running'] - df_oni['sst_clim']\n"
   ]
  },
  {
   "cell_type": "code",
   "execution_count": 40,
   "id": "2b40c99e",
   "metadata": {},
   "outputs": [
    {
     "name": "stdout",
     "output_type": "stream",
     "text": [
      "-1.509,-1.336,-1.164,-1.181,-1.072,-0.851,-0.535,-0.425,-0.385,-0.444,-0.601,-0.821\n",
      "-0.802,-0.541,-0.166,0.176,0.360,0.584,0.700,0.887,0.993,1.153,1.041,0.790\n",
      "0.555,0.366,0.340,0.295,0.205,0.001,-0.078,0.002,0.151,0.104,0.044,0.129\n",
      "0.423,0.599,0.625,0.659,0.752,0.773,0.746,0.729,0.782,0.844,0.836,0.795\n",
      "0.778,0.468,-0.046,-0.410,-0.538,-0.496,-0.641,-0.844,-0.899,-0.770,-0.731,-0.676\n",
      "-0.659,-0.615,-0.690,-0.803,-0.787,-0.720,-0.683,-0.749,-1.087,-1.425,-1.671,-1.436\n"
     ]
    }
   ],
   "source": [
    "for i in range(0, len(df_oni['diff']), 12):\n",
    "    group = df_oni['diff'].iloc[i:i+12]\n",
    "    rounded = [f\"{x:.3f}\" for x in group]  # 소수점 둘째자리 반올림\n",
    "    print(','.join(rounded))"
   ]
  }
 ],
 "metadata": {
  "kernelspec": {
   "display_name": "practice",
   "language": "python",
   "name": "python3"
  },
  "language_info": {
   "codemirror_mode": {
    "name": "ipython",
    "version": 3
   },
   "file_extension": ".py",
   "mimetype": "text/x-python",
   "name": "python",
   "nbconvert_exporter": "python",
   "pygments_lexer": "ipython3",
   "version": "3.13.2"
  }
 },
 "nbformat": 4,
 "nbformat_minor": 5
}
