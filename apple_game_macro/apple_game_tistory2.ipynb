{
 "cells": [
  {
   "cell_type": "code",
   "execution_count": 39,
   "metadata": {},
   "outputs": [],
   "source": [
    "import pyautogui\n",
    "import pandas as pd\n",
    "df = pd.DataFrame(columns=['num', 'top', 'left', 'width', 'height'])\n",
    "img_path = './imgs/'\n",
    "\n",
    "ll = 0\n",
    "for i in range(1, 9+1):\n",
    "    positions = pyautogui.locateAllOnScreen(f'{img_path}{i}.png', confidence=0.90)\n",
    "    for pos in positions:\n",
    "        new_row = {'num':i, 'top':pos.top, 'left':pos.left, \n",
    "                   'width':pos.width, 'height':pos.height}\n",
    "        df = pd.concat([df, pd.DataFrame([new_row])], ignore_index=True)\n",
    "        ll += 1"
   ]
  },
  {
   "cell_type": "code",
   "execution_count": 40,
   "metadata": {},
   "outputs": [],
   "source": [
    "import os\n",
    "os.environ[\"LOKY_MAX_CPU_COUNT\"] = \"4\"\n",
    "os.environ[\"OMP_NUM_THREADS\"] = \"2\"\n",
    "\n",
    "from sklearn.cluster import KMeans\n",
    "kmeans = KMeans(n_clusters=170)\n",
    "kmeans.fit(df[['top', 'left']])\n",
    "df['cluster'] = kmeans.labels_\n",
    "df = df.groupby(by='cluster').mean()"
   ]
  },
  {
   "cell_type": "code",
   "execution_count": 41,
   "metadata": {},
   "outputs": [
    {
     "name": "stderr",
     "output_type": "stream",
     "text": [
      "c:\\Users\\zerot\\anaconda3\\envs\\practice\\Lib\\site-packages\\sklearn\\cluster\\_kmeans.py:1419: UserWarning: KMeans is known to have a memory leak on Windows with MKL, when there are less chunks than available threads. You can avoid it by setting the environment variable OMP_NUM_THREADS=1.\n",
      "  warnings.warn(\n",
      "c:\\Users\\zerot\\anaconda3\\envs\\practice\\Lib\\site-packages\\sklearn\\cluster\\_kmeans.py:1419: UserWarning: KMeans is known to have a memory leak on Windows with MKL, when there are less chunks than available threads. You can avoid it by setting the environment variable OMP_NUM_THREADS=1.\n",
      "  warnings.warn(\n"
     ]
    }
   ],
   "source": [
    "kmeans = KMeans(n_clusters=17)\n",
    "kmeans.fit(df[['left']])\n",
    "df['x_cls'] = kmeans.labels_\n",
    "\n",
    "kmeans = KMeans(n_clusters=10)\n",
    "kmeans.fit(df[['top']])\n",
    "df['y_cls'] = kmeans.labels_"
   ]
  },
  {
   "cell_type": "code",
   "execution_count": 42,
   "metadata": {},
   "outputs": [],
   "source": [
    "for xi in range(17):\n",
    "    mean_value = df.loc[df['x_cls'] == xi, 'left'].mean()  # 먼저 평균값 계산\n",
    "    df.loc[df['x_cls'] == xi, 'left'] = mean_value  # loc를 사용하여 값 업데이트\n",
    "for xi in range(10):\n",
    "    mean_value = df.loc[df['y_cls'] == xi, 'top'].mean()  # 먼저 평균값 계산\n",
    "    df.loc[df['y_cls'] == xi, 'top'] = mean_value  # loc를 사용하여 값 업데이트"
   ]
  },
  {
   "cell_type": "code",
   "execution_count": 43,
   "metadata": {},
   "outputs": [],
   "source": [
    "import numpy as np\n",
    "df = df.sort_values(by=['top', 'left']).reset_index(drop=True)\n",
    "num1d = np.array(df['num'].values.tolist(), dtype=int)\n",
    "num2d = num1d.reshape(10, 17)"
   ]
  },
  {
   "cell_type": "code",
   "execution_count": 44,
   "metadata": {},
   "outputs": [],
   "source": [
    "import pyautogui\n",
    "import keyboard\n",
    "xloc = df['left'].unique()\n",
    "yloc = df['top'].unique()\n",
    "\n",
    "dx = np.mean(np.diff(xloc))\n",
    "dy = np.mean(np.diff(yloc))\n",
    "xloc_mouse = xloc - 0.25 * dx\n",
    "yloc_mouse = yloc - 0.25 * dy\n",
    "\n",
    "def mouse_move(xi, yi, w, h, duration):\n",
    "    pyautogui.moveTo( xloc_mouse[xi], yloc_mouse[yi], duration=duration)\n",
    "    pyautogui.mouseDown()\n",
    "    pyautogui.moveTo(xloc_mouse[xi] + (w+1)*dx, yloc_mouse[yi] + (h+1)*dy,  duration=duration)\n",
    "    pyautogui.moveTo(xloc_mouse[xi] + (w+1)*dx, yloc_mouse[yi] + (h+1)*dy,  duration=duration)\n",
    "    pyautogui.mouseUp()\n",
    "\n",
    "duration = 0.01\n",
    "for _ in range(10):\n",
    "    for yi in range(10):\n",
    "        for xi in range(17):\n",
    "            if keyboard.is_pressed(\"q\"):  \n",
    "                break\n",
    "            w_max, h_max = 17 - xi, 10 - yi\n",
    "            for h in range(h_max):\n",
    "                for w in range(w_max):\n",
    "                    if np.sum(num2d[yi: yi + h+1, xi: xi + w+1]) == 10:\n",
    "                        num2d[yi: yi + h+1, xi: xi + w+1] = 0\n",
    "                        mouse_move(xi, yi, w, h, duration)\n",
    "\n",
    "\n"
   ]
  }
 ],
 "metadata": {
  "kernelspec": {
   "display_name": "practice",
   "language": "python",
   "name": "python3"
  },
  "language_info": {
   "codemirror_mode": {
    "name": "ipython",
    "version": 3
   },
   "file_extension": ".py",
   "mimetype": "text/x-python",
   "name": "python",
   "nbconvert_exporter": "python",
   "pygments_lexer": "ipython3",
   "version": "3.13.2"
  }
 },
 "nbformat": 4,
 "nbformat_minor": 2
}
